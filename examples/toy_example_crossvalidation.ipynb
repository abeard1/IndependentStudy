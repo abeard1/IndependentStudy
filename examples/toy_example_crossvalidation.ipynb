{
 "cells": [
  {
   "cell_type": "markdown",
   "metadata": {},
   "source": [
    "## Cross Validation w/ Toy Example - m_params\n",
    "\n",
    "Shows how Cross-Validation will be performed\n",
    "\n",
    "Note: this is worth of its own notebook because it isn't simply taking out rows from pred_mat - because the games that you're taking out are also built into the predictions for other games, they need to be fully removed from the graph, and then that subgraph with them removed needs to be used to build m_mat. Then, that trained model can be used to predict the actual values of the \"clean\" test data."
   ]
  },
  {
   "cell_type": "code",
   "execution_count": 13,
   "metadata": {
    "collapsed": true
   },
   "outputs": [],
   "source": [
    "import pandas as pd\n",
    "import networkx as nx\n",
    "import numpy as np\n",
    "import functions"
   ]
  },
  {
   "cell_type": "markdown",
   "metadata": {},
   "source": [
    "### Original Graph"
   ]
  },
  {
   "cell_type": "code",
   "execution_count": 2,
   "metadata": {
    "scrolled": false
   },
   "outputs": [
    {
     "data": {
      "text/html": [
       "<div>\n",
       "<style>\n",
       "    .dataframe thead tr:only-child th {\n",
       "        text-align: right;\n",
       "    }\n",
       "\n",
       "    .dataframe thead th {\n",
       "        text-align: left;\n",
       "    }\n",
       "\n",
       "    .dataframe tbody tr th {\n",
       "        vertical-align: top;\n",
       "    }\n",
       "</style>\n",
       "<table border=\"1\" class=\"dataframe\">\n",
       "  <thead>\n",
       "    <tr style=\"text-align: right;\">\n",
       "      <th></th>\n",
       "      <th>defense</th>\n",
       "      <th>player</th>\n",
       "      <th>pts</th>\n",
       "    </tr>\n",
       "  </thead>\n",
       "  <tbody>\n",
       "    <tr>\n",
       "      <th>0</th>\n",
       "      <td>Defense_A</td>\n",
       "      <td>Player_W</td>\n",
       "      <td>20</td>\n",
       "    </tr>\n",
       "    <tr>\n",
       "      <th>1</th>\n",
       "      <td>Defense_A</td>\n",
       "      <td>Player_X</td>\n",
       "      <td>21</td>\n",
       "    </tr>\n",
       "    <tr>\n",
       "      <th>2</th>\n",
       "      <td>Defense_A</td>\n",
       "      <td>Player_Y</td>\n",
       "      <td>5</td>\n",
       "    </tr>\n",
       "    <tr>\n",
       "      <th>3</th>\n",
       "      <td>Defense_B</td>\n",
       "      <td>Player_W</td>\n",
       "      <td>23</td>\n",
       "    </tr>\n",
       "    <tr>\n",
       "      <th>4</th>\n",
       "      <td>Defense_B</td>\n",
       "      <td>Player_X</td>\n",
       "      <td>24</td>\n",
       "    </tr>\n",
       "    <tr>\n",
       "      <th>5</th>\n",
       "      <td>Defense_B</td>\n",
       "      <td>Player_Y</td>\n",
       "      <td>25</td>\n",
       "    </tr>\n",
       "    <tr>\n",
       "      <th>6</th>\n",
       "      <td>Defense_C</td>\n",
       "      <td>Player_W</td>\n",
       "      <td>19</td>\n",
       "    </tr>\n",
       "    <tr>\n",
       "      <th>7</th>\n",
       "      <td>Defense_C</td>\n",
       "      <td>Player_X</td>\n",
       "      <td>24</td>\n",
       "    </tr>\n",
       "    <tr>\n",
       "      <th>8</th>\n",
       "      <td>Defense_C</td>\n",
       "      <td>Player_Y</td>\n",
       "      <td>29</td>\n",
       "    </tr>\n",
       "  </tbody>\n",
       "</table>\n",
       "</div>"
      ],
      "text/plain": [
       "     defense    player  pts\n",
       "0  Defense_A  Player_W   20\n",
       "1  Defense_A  Player_X   21\n",
       "2  Defense_A  Player_Y    5\n",
       "3  Defense_B  Player_W   23\n",
       "4  Defense_B  Player_X   24\n",
       "5  Defense_B  Player_Y   25\n",
       "6  Defense_C  Player_W   19\n",
       "7  Defense_C  Player_X   24\n",
       "8  Defense_C  Player_Y   29"
      ]
     },
     "execution_count": 2,
     "metadata": {},
     "output_type": "execute_result"
    }
   ],
   "source": [
    "df = pd.read_csv('toy_data2.csv')\n",
    "df.head(len(df))"
   ]
  },
  {
   "cell_type": "code",
   "execution_count": 3,
   "metadata": {
    "scrolled": true
   },
   "outputs": [
    {
     "data": {
      "image/png": "[encoded data removed]",
      "text/plain": [
       "<matplotlib.figure.Figure at 0x7f4e031ca4e0>"
      ]
     },
     "metadata": {},
     "output_type": "display_data"
    }
   ],
   "source": [
    "G = nx.from_pandas_edgelist(df, 'defense', 'player', ['pts']).to_undirected()\n",
    "\n",
    "functions.bipartite_draw(G)"
   ]
  },
  {
   "cell_type": "markdown",
   "metadata": {},
   "source": [
    "#### Hide 3 cells\n",
    "\n",
    "Note: When working with real data, will randomly select games to be hidden, but in this example, it's so easy to randomly select 3 that make it difficult to have a realistic m-value.\n",
    "\n",
    "In reality, will be random % hidden."
   ]
  },
  {
   "cell_type": "code",
   "execution_count": 4,
   "metadata": {
    "collapsed": true
   },
   "outputs": [],
   "source": [
    "hidden_indices = [0]\n",
    "\n",
    "df['hidden'] = False\n",
    "\n",
    "for index in hidden_indices:\n",
    "    df.at[index, 'hidden'] = True"
   ]
  },
  {
   "cell_type": "code",
   "execution_count": 5,
   "metadata": {},
   "outputs": [
    {
     "data": {
      "text/html": [
       "<div>\n",
       "<style>\n",
       "    .dataframe thead tr:only-child th {\n",
       "        text-align: right;\n",
       "    }\n",
       "\n",
       "    .dataframe thead th {\n",
       "        text-align: left;\n",
       "    }\n",
       "\n",
       "    .dataframe tbody tr th {\n",
       "        vertical-align: top;\n",
       "    }\n",
       "</style>\n",
       "<table border=\"1\" class=\"dataframe\">\n",
       "  <thead>\n",
       "    <tr style=\"text-align: right;\">\n",
       "      <th></th>\n",
       "      <th>defense</th>\n",
       "      <th>player</th>\n",
       "      <th>pts</th>\n",
       "      <th>hidden</th>\n",
       "    </tr>\n",
       "  </thead>\n",
       "  <tbody>\n",
       "    <tr>\n",
       "      <th>0</th>\n",
       "      <td>Defense_A</td>\n",
       "      <td>Player_W</td>\n",
       "      <td>20</td>\n",
       "      <td>True</td>\n",
       "    </tr>\n",
       "    <tr>\n",
       "      <th>1</th>\n",
       "      <td>Defense_A</td>\n",
       "      <td>Player_X</td>\n",
       "      <td>21</td>\n",
       "      <td>False</td>\n",
       "    </tr>\n",
       "    <tr>\n",
       "      <th>2</th>\n",
       "      <td>Defense_A</td>\n",
       "      <td>Player_Y</td>\n",
       "      <td>5</td>\n",
       "      <td>False</td>\n",
       "    </tr>\n",
       "    <tr>\n",
       "      <th>3</th>\n",
       "      <td>Defense_B</td>\n",
       "      <td>Player_W</td>\n",
       "      <td>23</td>\n",
       "      <td>False</td>\n",
       "    </tr>\n",
       "    <tr>\n",
       "      <th>4</th>\n",
       "      <td>Defense_B</td>\n",
       "      <td>Player_X</td>\n",
       "      <td>24</td>\n",
       "      <td>False</td>\n",
       "    </tr>\n",
       "    <tr>\n",
       "      <th>5</th>\n",
       "      <td>Defense_B</td>\n",
       "      <td>Player_Y</td>\n",
       "      <td>25</td>\n",
       "      <td>False</td>\n",
       "    </tr>\n",
       "    <tr>\n",
       "      <th>6</th>\n",
       "      <td>Defense_C</td>\n",
       "      <td>Player_W</td>\n",
       "      <td>19</td>\n",
       "      <td>False</td>\n",
       "    </tr>\n",
       "    <tr>\n",
       "      <th>7</th>\n",
       "      <td>Defense_C</td>\n",
       "      <td>Player_X</td>\n",
       "      <td>24</td>\n",
       "      <td>False</td>\n",
       "    </tr>\n",
       "    <tr>\n",
       "      <th>8</th>\n",
       "      <td>Defense_C</td>\n",
       "      <td>Player_Y</td>\n",
       "      <td>29</td>\n",
       "      <td>False</td>\n",
       "    </tr>\n",
       "  </tbody>\n",
       "</table>\n",
       "</div>"
      ],
      "text/plain": [
       "     defense    player  pts  hidden\n",
       "0  Defense_A  Player_W   20    True\n",
       "1  Defense_A  Player_X   21   False\n",
       "2  Defense_A  Player_Y    5   False\n",
       "3  Defense_B  Player_W   23   False\n",
       "4  Defense_B  Player_X   24   False\n",
       "5  Defense_B  Player_Y   25   False\n",
       "6  Defense_C  Player_W   19   False\n",
       "7  Defense_C  Player_X   24   False\n",
       "8  Defense_C  Player_Y   29   False"
      ]
     },
     "execution_count": 5,
     "metadata": {},
     "output_type": "execute_result"
    }
   ],
   "source": [
    "df.head(len(df))"
   ]
  },
  {
   "cell_type": "markdown",
   "metadata": {},
   "source": [
    "#### New Graph"
   ]
  },
  {
   "cell_type": "code",
   "execution_count": 6,
   "metadata": {},
   "outputs": [
    {
     "data": {
      "text/html": [
       "<div>\n",
       "<style>\n",
       "    .dataframe thead tr:only-child th {\n",
       "        text-align: right;\n",
       "    }\n",
       "\n",
       "    .dataframe thead th {\n",
       "        text-align: left;\n",
       "    }\n",
       "\n",
       "    .dataframe tbody tr th {\n",
       "        vertical-align: top;\n",
       "    }\n",
       "</style>\n",
       "<table border=\"1\" class=\"dataframe\">\n",
       "  <thead>\n",
       "    <tr style=\"text-align: right;\">\n",
       "      <th></th>\n",
       "      <th>defense</th>\n",
       "      <th>player</th>\n",
       "      <th>pts</th>\n",
       "      <th>hidden</th>\n",
       "    </tr>\n",
       "  </thead>\n",
       "  <tbody>\n",
       "    <tr>\n",
       "      <th>1</th>\n",
       "      <td>Defense_A</td>\n",
       "      <td>Player_X</td>\n",
       "      <td>21</td>\n",
       "      <td>False</td>\n",
       "    </tr>\n",
       "    <tr>\n",
       "      <th>2</th>\n",
       "      <td>Defense_A</td>\n",
       "      <td>Player_Y</td>\n",
       "      <td>5</td>\n",
       "      <td>False</td>\n",
       "    </tr>\n",
       "    <tr>\n",
       "      <th>3</th>\n",
       "      <td>Defense_B</td>\n",
       "      <td>Player_W</td>\n",
       "      <td>23</td>\n",
       "      <td>False</td>\n",
       "    </tr>\n",
       "    <tr>\n",
       "      <th>4</th>\n",
       "      <td>Defense_B</td>\n",
       "      <td>Player_X</td>\n",
       "      <td>24</td>\n",
       "      <td>False</td>\n",
       "    </tr>\n",
       "    <tr>\n",
       "      <th>5</th>\n",
       "      <td>Defense_B</td>\n",
       "      <td>Player_Y</td>\n",
       "      <td>25</td>\n",
       "      <td>False</td>\n",
       "    </tr>\n",
       "    <tr>\n",
       "      <th>6</th>\n",
       "      <td>Defense_C</td>\n",
       "      <td>Player_W</td>\n",
       "      <td>19</td>\n",
       "      <td>False</td>\n",
       "    </tr>\n",
       "    <tr>\n",
       "      <th>7</th>\n",
       "      <td>Defense_C</td>\n",
       "      <td>Player_X</td>\n",
       "      <td>24</td>\n",
       "      <td>False</td>\n",
       "    </tr>\n",
       "    <tr>\n",
       "      <th>8</th>\n",
       "      <td>Defense_C</td>\n",
       "      <td>Player_Y</td>\n",
       "      <td>29</td>\n",
       "      <td>False</td>\n",
       "    </tr>\n",
       "  </tbody>\n",
       "</table>\n",
       "</div>"
      ],
      "text/plain": [
       "     defense    player  pts  hidden\n",
       "1  Defense_A  Player_X   21   False\n",
       "2  Defense_A  Player_Y    5   False\n",
       "3  Defense_B  Player_W   23   False\n",
       "4  Defense_B  Player_X   24   False\n",
       "5  Defense_B  Player_Y   25   False\n",
       "6  Defense_C  Player_W   19   False\n",
       "7  Defense_C  Player_X   24   False\n",
       "8  Defense_C  Player_Y   29   False"
      ]
     },
     "execution_count": 6,
     "metadata": {},
     "output_type": "execute_result"
    }
   ],
   "source": [
    "df_train = df[df['hidden'] == False].copy()\n",
    "\n",
    "df_train.head(len(df_train))"
   ]
  },
  {
   "cell_type": "code",
   "execution_count": 7,
   "metadata": {},
   "outputs": [
    {
     "data": {
      "image/png": "[encoded data removed]",
      "text/plain": [
       "<matplotlib.figure.Figure at 0x7f4dfbd21a90>"
      ]
     },
     "metadata": {},
     "output_type": "display_data"
    }
   ],
   "source": [
    "G_train = nx.from_pandas_edgelist(df_train, 'defense', 'player', ['pts']).to_undirected()\n",
    "\n",
    "functions.bipartite_draw(G_train)"
   ]
  },
  {
   "cell_type": "markdown",
   "metadata": {},
   "source": [
    "Can see change in number of triangles available for each edge:"
   ]
  },
  {
   "cell_type": "code",
   "execution_count": 8,
   "metadata": {},
   "outputs": [
    {
     "name": "stdout",
     "output_type": "stream",
     "text": [
      "('Defense_A', 'Player_W')\n",
      "--------------------------\n",
      "Original Graph: 4\n",
      "('Player_X', 'Defense_B')\n",
      "('Player_X', 'Defense_C')\n",
      "('Player_Y', 'Defense_B')\n",
      "('Player_Y', 'Defense_C')\n",
      "Original Graph: 4\n",
      "('Player_X', 'Defense_B')\n",
      "('Player_X', 'Defense_C')\n",
      "('Player_Y', 'Defense_B')\n",
      "('Player_Y', 'Defense_C')\n",
      "\n",
      "\n",
      "('Defense_A', 'Player_X')\n",
      "--------------------------\n",
      "Original Graph: 4\n",
      "('Player_W', 'Defense_B')\n",
      "('Player_W', 'Defense_C')\n",
      "('Player_Y', 'Defense_B')\n",
      "('Player_Y', 'Defense_C')\n",
      "Original Graph: 2\n",
      "('Player_Y', 'Defense_B')\n",
      "('Player_Y', 'Defense_C')\n",
      "\n",
      "\n",
      "('Defense_A', 'Player_Y')\n",
      "--------------------------\n",
      "Original Graph: 4\n",
      "('Player_W', 'Defense_B')\n",
      "('Player_W', 'Defense_C')\n",
      "('Player_X', 'Defense_B')\n",
      "('Player_X', 'Defense_C')\n",
      "Original Graph: 2\n",
      "('Player_X', 'Defense_B')\n",
      "('Player_X', 'Defense_C')\n",
      "\n",
      "\n",
      "('Player_W', 'Defense_B')\n",
      "--------------------------\n",
      "Original Graph: 4\n",
      "('Defense_A', 'Player_X')\n",
      "('Player_X', 'Defense_C')\n",
      "('Defense_A', 'Player_Y')\n",
      "('Player_Y', 'Defense_C')\n",
      "Original Graph: 2\n",
      "('Player_X', 'Defense_C')\n",
      "('Player_Y', 'Defense_C')\n",
      "\n",
      "\n",
      "('Player_W', 'Defense_C')\n",
      "--------------------------\n",
      "Original Graph: 4\n",
      "('Defense_A', 'Player_X')\n",
      "('Player_X', 'Defense_B')\n",
      "('Defense_A', 'Player_Y')\n",
      "('Player_Y', 'Defense_B')\n",
      "Original Graph: 2\n",
      "('Player_X', 'Defense_B')\n",
      "('Player_Y', 'Defense_B')\n",
      "\n",
      "\n",
      "('Player_X', 'Defense_B')\n",
      "--------------------------\n",
      "Original Graph: 4\n",
      "('Defense_A', 'Player_W')\n",
      "('Player_W', 'Defense_C')\n",
      "('Defense_A', 'Player_Y')\n",
      "('Player_Y', 'Defense_C')\n",
      "Original Graph: 3\n",
      "('Defense_A', 'Player_Y')\n",
      "('Player_Y', 'Defense_C')\n",
      "('Player_W', 'Defense_C')\n",
      "\n",
      "\n",
      "('Player_X', 'Defense_C')\n",
      "--------------------------\n",
      "Original Graph: 4\n",
      "('Defense_A', 'Player_W')\n",
      "('Player_W', 'Defense_B')\n",
      "('Defense_A', 'Player_Y')\n",
      "('Player_Y', 'Defense_B')\n",
      "Original Graph: 3\n",
      "('Defense_A', 'Player_Y')\n",
      "('Player_Y', 'Defense_B')\n",
      "('Defense_B', 'Player_W')\n",
      "\n",
      "\n",
      "('Player_Y', 'Defense_B')\n",
      "--------------------------\n",
      "Original Graph: 4\n",
      "('Defense_A', 'Player_W')\n",
      "('Player_W', 'Defense_C')\n",
      "('Defense_A', 'Player_X')\n",
      "('Player_X', 'Defense_C')\n",
      "Original Graph: 3\n",
      "('Defense_A', 'Player_X')\n",
      "('Player_X', 'Defense_C')\n",
      "('Player_W', 'Defense_C')\n",
      "\n",
      "\n",
      "('Player_Y', 'Defense_C')\n",
      "--------------------------\n",
      "Original Graph: 4\n",
      "('Defense_A', 'Player_W')\n",
      "('Player_W', 'Defense_B')\n",
      "('Defense_A', 'Player_X')\n",
      "('Player_X', 'Defense_B')\n",
      "Original Graph: 3\n",
      "('Defense_A', 'Player_X')\n",
      "('Player_X', 'Defense_B')\n",
      "('Defense_B', 'Player_W')\n",
      "\n",
      "\n"
     ]
    }
   ],
   "source": [
    "for edge in list(G.edges()):\n",
    "    defense, player = functions.split_edge(edge)\n",
    "    orig_tri = functions.generate_triangle_dict(G, defense, player, 'pts')\n",
    "    train_tri = functions.generate_triangle_dict(G_train, defense, player, 'pts')\n",
    "    \n",
    "    print(edge)    \n",
    "    print('--------------------------')\n",
    "    print('Original Graph: {}'.format(len(orig_tri)) )\n",
    "    for tri in orig_tri:\n",
    "        print(tri)\n",
    "    print('Original Graph: {}'.format(len(train_tri)) )\n",
    "    for tri in train_tri:\n",
    "        print(tri)\n",
    "    print('\\n')"
   ]
  },
  {
   "cell_type": "markdown",
   "metadata": {},
   "source": [
    "### Build matrices\n",
    "\n",
    "This will be done with ranking/selection method, but for this example just taking first 2 triangles and make them m1 and m2"
   ]
  },
  {
   "cell_type": "code",
   "execution_count": 9,
   "metadata": {},
   "outputs": [
    {
     "data": {
      "text/html": [
       "<div>\n",
       "<style>\n",
       "    .dataframe thead tr:only-child th {\n",
       "        text-align: right;\n",
       "    }\n",
       "\n",
       "    .dataframe thead th {\n",
       "        text-align: left;\n",
       "    }\n",
       "\n",
       "    .dataframe tbody tr th {\n",
       "        vertical-align: top;\n",
       "    }\n",
       "</style>\n",
       "<table border=\"1\" class=\"dataframe\">\n",
       "  <thead>\n",
       "    <tr style=\"text-align: right;\">\n",
       "      <th></th>\n",
       "      <th>defense</th>\n",
       "      <th>player</th>\n",
       "      <th>pts</th>\n",
       "      <th>hidden</th>\n",
       "      <th>actual</th>\n",
       "      <th>m0</th>\n",
       "      <th>m1</th>\n",
       "    </tr>\n",
       "  </thead>\n",
       "  <tbody>\n",
       "    <tr>\n",
       "      <th>0</th>\n",
       "      <td>Defense_A</td>\n",
       "      <td>Player_W</td>\n",
       "      <td>20</td>\n",
       "      <td>True</td>\n",
       "      <td>20</td>\n",
       "      <td>3.275862</td>\n",
       "      <td>20.125000</td>\n",
       "    </tr>\n",
       "    <tr>\n",
       "      <th>1</th>\n",
       "      <td>Defense_A</td>\n",
       "      <td>Player_X</td>\n",
       "      <td>21</td>\n",
       "      <td>False</td>\n",
       "      <td>21</td>\n",
       "      <td>4.137931</td>\n",
       "      <td>4.800000</td>\n",
       "    </tr>\n",
       "    <tr>\n",
       "      <th>2</th>\n",
       "      <td>Defense_A</td>\n",
       "      <td>Player_Y</td>\n",
       "      <td>5</td>\n",
       "      <td>False</td>\n",
       "      <td>5</td>\n",
       "      <td>21.875000</td>\n",
       "      <td>25.375000</td>\n",
       "    </tr>\n",
       "    <tr>\n",
       "      <th>3</th>\n",
       "      <td>Defense_B</td>\n",
       "      <td>Player_W</td>\n",
       "      <td>23</td>\n",
       "      <td>False</td>\n",
       "      <td>23</td>\n",
       "      <td>16.379310</td>\n",
       "      <td>19.000000</td>\n",
       "    </tr>\n",
       "    <tr>\n",
       "      <th>4</th>\n",
       "      <td>Defense_B</td>\n",
       "      <td>Player_X</td>\n",
       "      <td>24</td>\n",
       "      <td>False</td>\n",
       "      <td>24</td>\n",
       "      <td>20.689655</td>\n",
       "      <td>105.000000</td>\n",
       "    </tr>\n",
       "    <tr>\n",
       "      <th>5</th>\n",
       "      <td>Defense_B</td>\n",
       "      <td>Player_Y</td>\n",
       "      <td>25</td>\n",
       "      <td>False</td>\n",
       "      <td>25</td>\n",
       "      <td>5.714286</td>\n",
       "      <td>35.105263</td>\n",
       "    </tr>\n",
       "    <tr>\n",
       "      <th>6</th>\n",
       "      <td>Defense_C</td>\n",
       "      <td>Player_W</td>\n",
       "      <td>19</td>\n",
       "      <td>False</td>\n",
       "      <td>19</td>\n",
       "      <td>23.000000</td>\n",
       "      <td>26.680000</td>\n",
       "    </tr>\n",
       "    <tr>\n",
       "      <th>7</th>\n",
       "      <td>Defense_C</td>\n",
       "      <td>Player_X</td>\n",
       "      <td>24</td>\n",
       "      <td>False</td>\n",
       "      <td>24</td>\n",
       "      <td>19.826087</td>\n",
       "      <td>121.800000</td>\n",
       "    </tr>\n",
       "    <tr>\n",
       "      <th>8</th>\n",
       "      <td>Defense_C</td>\n",
       "      <td>Player_Y</td>\n",
       "      <td>29</td>\n",
       "      <td>False</td>\n",
       "      <td>29</td>\n",
       "      <td>5.714286</td>\n",
       "      <td>25.000000</td>\n",
       "    </tr>\n",
       "  </tbody>\n",
       "</table>\n",
       "</div>"
      ],
      "text/plain": [
       "     defense    player  pts  hidden  actual         m0          m1\n",
       "0  Defense_A  Player_W   20    True      20   3.275862   20.125000\n",
       "1  Defense_A  Player_X   21   False      21   4.137931    4.800000\n",
       "2  Defense_A  Player_Y    5   False       5  21.875000   25.375000\n",
       "3  Defense_B  Player_W   23   False      23  16.379310   19.000000\n",
       "4  Defense_B  Player_X   24   False      24  20.689655  105.000000\n",
       "5  Defense_B  Player_Y   25   False      25   5.714286   35.105263\n",
       "6  Defense_C  Player_W   19   False      19  23.000000   26.680000\n",
       "7  Defense_C  Player_X   24   False      24  19.826087  121.800000\n",
       "8  Defense_C  Player_Y   29   False      29   5.714286   25.000000"
      ]
     },
     "execution_count": 9,
     "metadata": {},
     "output_type": "execute_result"
    }
   ],
   "source": [
    "M = 2\n",
    "\n",
    "df_pred = functions.build_df_pred(G, G_train, df, M, 'pts')\n",
    "\n",
    "df_pred"
   ]
  },
  {
   "cell_type": "markdown",
   "metadata": {},
   "source": [
    "### Split into train/test"
   ]
  },
  {
   "cell_type": "code",
   "execution_count": 14,
   "metadata": {
    "collapsed": true
   },
   "outputs": [],
   "source": [
    "np.set_printoptions(precision=2)"
   ]
  },
  {
   "cell_type": "code",
   "execution_count": 15,
   "metadata": {},
   "outputs": [
    {
     "data": {
      "text/plain": [
       "array([[   4.14,    4.8 ],\n",
       "       [  21.88,   25.38],\n",
       "       [  16.38,   19.  ],\n",
       "       [  20.69,  105.  ],\n",
       "       [   5.71,   35.11],\n",
       "       [  23.  ,   26.68],\n",
       "       [  19.83,  121.8 ],\n",
       "       [   5.71,   25.  ]])"
      ]
     },
     "execution_count": 15,
     "metadata": {},
     "output_type": "execute_result"
    }
   ],
   "source": [
    "m_columns = ['m{}'.format(m) for m in range(M)]\n",
    "\n",
    "m_mat_train = df_pred[df_pred['hidden'] == False].as_matrix(columns=m_columns)\n",
    "\n",
    "m_mat_train"
   ]
  },
  {
   "cell_type": "code",
   "execution_count": 17,
   "metadata": {},
   "outputs": [
    {
     "data": {
      "text/plain": [
       "array([[21],\n",
       "       [ 5],\n",
       "       [23],\n",
       "       [24],\n",
       "       [25],\n",
       "       [19],\n",
       "       [24],\n",
       "       [29]])"
      ]
     },
     "execution_count": 17,
     "metadata": {},
     "output_type": "execute_result"
    }
   ],
   "source": [
    "actual_mat_train = df_pred[df_pred['hidden'] == False].as_matrix(columns=['actual'])\n",
    "\n",
    "actual_mat_train"
   ]
  },
  {
   "cell_type": "code",
   "execution_count": 18,
   "metadata": {},
   "outputs": [
    {
     "data": {
      "text/plain": [
       "array([[  3.28,  20.12]])"
      ]
     },
     "execution_count": 18,
     "metadata": {},
     "output_type": "execute_result"
    }
   ],
   "source": [
    "m_columns = ['m{}'.format(m) for m in range(M)]\n",
    "\n",
    "m_mat_test = df_pred[df_pred['hidden'] == True].as_matrix(columns=m_columns)\n",
    "\n",
    "m_mat_test"
   ]
  },
  {
   "cell_type": "code",
   "execution_count": 19,
   "metadata": {},
   "outputs": [
    {
     "data": {
      "text/plain": [
       "array([[20]])"
      ]
     },
     "execution_count": 19,
     "metadata": {},
     "output_type": "execute_result"
    }
   ],
   "source": [
    "actual_mat_test = df_pred[df_pred['hidden'] == True].as_matrix(columns=['actual'])\n",
    "\n",
    "actual_mat_test"
   ]
  },
  {
   "cell_type": "markdown",
   "metadata": {},
   "source": [
    "#### Train Linear Regression"
   ]
  },
  {
   "cell_type": "code",
   "execution_count": 20,
   "metadata": {},
   "outputs": [
    {
     "data": {
      "text/plain": [
       "array([[-0.68,  0.1 ]])"
      ]
     },
     "execution_count": 20,
     "metadata": {},
     "output_type": "execute_result"
    }
   ],
   "source": [
    "from sklearn.linear_model import LinearRegression\n",
    "\n",
    "regr = LinearRegression()\n",
    "\n",
    "regr.fit(m_mat_train, actual_mat_train)\n",
    "\n",
    "regr.coef_"
   ]
  },
  {
   "cell_type": "markdown",
   "metadata": {},
   "source": [
    "### Test"
   ]
  },
  {
   "cell_type": "code",
   "execution_count": 21,
   "metadata": {},
   "outputs": [
    {
     "data": {
      "text/plain": [
       "array([[ 26.51]])"
      ]
     },
     "execution_count": 21,
     "metadata": {},
     "output_type": "execute_result"
    }
   ],
   "source": [
    "actual_mat_test_pred = regr.predict(m_mat_test)\n",
    "\n",
    "actual_mat_test_pred"
   ]
  },
  {
   "cell_type": "code",
   "execution_count": 22,
   "metadata": {},
   "outputs": [
    {
     "data": {
      "text/plain": [
       "array([[ 6.51]])"
      ]
     },
     "execution_count": 22,
     "metadata": {},
     "output_type": "execute_result"
    }
   ],
   "source": [
    "resid_test = np.absolute(actual_mat_test_pred - actual_mat_test)\n",
    "\n",
    "resid_test"
   ]
  }
 ],
 "metadata": {
  "kernelspec": {
   "display_name": "Python 3",
   "language": "python",
   "name": "python3"
  },
  "language_info": {
   "codemirror_mode": {
    "name": "ipython",
    "version": 3
   },
   "file_extension": ".py",
   "mimetype": "text/x-python",
   "name": "python",
   "nbconvert_exporter": "python",
   "pygments_lexer": "ipython3",
   "version": "3.6.3"
  }
 },
 "nbformat": 4,
 "nbformat_minor": 2
}
