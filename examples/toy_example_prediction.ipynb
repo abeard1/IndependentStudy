{
 "cells": [
  {
   "cell_type": "markdown",
   "metadata": {},
   "source": [
    "## Prediction w/ Toy Example - m_params\n",
    "\n",
    "Shows how matrices are built, and basic implementation of prediction methods"
   ]
  },
  {
   "cell_type": "code",
   "execution_count": 19,
   "metadata": {
    "collapsed": true
   },
   "outputs": [],
   "source": [
    "import pandas as pd\n",
    "import networkx as nx\n",
    "import matplotlib.pyplot as plt"
   ]
  },
  {
   "cell_type": "code",
   "execution_count": 20,
   "metadata": {
    "scrolled": true
   },
   "outputs": [
    {
     "data": {
      "text/html": [
       "<div>\n",
       "<style>\n",
       "    .dataframe thead tr:only-child th {\n",
       "        text-align: right;\n",
       "    }\n",
       "\n",
       "    .dataframe thead th {\n",
       "        text-align: left;\n",
       "    }\n",
       "\n",
       "    .dataframe tbody tr th {\n",
       "        vertical-align: top;\n",
       "    }\n",
       "</style>\n",
       "<table border=\"1\" class=\"dataframe\">\n",
       "  <thead>\n",
       "    <tr style=\"text-align: right;\">\n",
       "      <th></th>\n",
       "      <th>defense</th>\n",
       "      <th>player</th>\n",
       "      <th>actual</th>\n",
       "    </tr>\n",
       "  </thead>\n",
       "  <tbody>\n",
       "    <tr>\n",
       "      <th>0</th>\n",
       "      <td>Defense_A</td>\n",
       "      <td>Player_W</td>\n",
       "      <td>20</td>\n",
       "    </tr>\n",
       "    <tr>\n",
       "      <th>1</th>\n",
       "      <td>Defense_A</td>\n",
       "      <td>Player_X</td>\n",
       "      <td>21</td>\n",
       "    </tr>\n",
       "    <tr>\n",
       "      <th>2</th>\n",
       "      <td>Defense_A</td>\n",
       "      <td>Player_Y</td>\n",
       "      <td>5</td>\n",
       "    </tr>\n",
       "    <tr>\n",
       "      <th>3</th>\n",
       "      <td>Defense_B</td>\n",
       "      <td>Player_W</td>\n",
       "      <td>23</td>\n",
       "    </tr>\n",
       "    <tr>\n",
       "      <th>4</th>\n",
       "      <td>Defense_B</td>\n",
       "      <td>Player_X</td>\n",
       "      <td>24</td>\n",
       "    </tr>\n",
       "    <tr>\n",
       "      <th>5</th>\n",
       "      <td>Defense_B</td>\n",
       "      <td>Player_Y</td>\n",
       "      <td>25</td>\n",
       "    </tr>\n",
       "    <tr>\n",
       "      <th>6</th>\n",
       "      <td>Defense_C</td>\n",
       "      <td>Player_W</td>\n",
       "      <td>19</td>\n",
       "    </tr>\n",
       "    <tr>\n",
       "      <th>7</th>\n",
       "      <td>Defense_C</td>\n",
       "      <td>Player_X</td>\n",
       "      <td>24</td>\n",
       "    </tr>\n",
       "    <tr>\n",
       "      <th>8</th>\n",
       "      <td>Defense_C</td>\n",
       "      <td>Player_Y</td>\n",
       "      <td>29</td>\n",
       "    </tr>\n",
       "  </tbody>\n",
       "</table>\n",
       "</div>"
      ],
      "text/plain": [
       "     defense    player  actual\n",
       "0  Defense_A  Player_W      20\n",
       "1  Defense_A  Player_X      21\n",
       "2  Defense_A  Player_Y       5\n",
       "3  Defense_B  Player_W      23\n",
       "4  Defense_B  Player_X      24\n",
       "5  Defense_B  Player_Y      25\n",
       "6  Defense_C  Player_W      19\n",
       "7  Defense_C  Player_X      24\n",
       "8  Defense_C  Player_Y      29"
      ]
     },
     "execution_count": 20,
     "metadata": {},
     "output_type": "execute_result"
    }
   ],
   "source": [
    "df = pd.read_csv('toy_data2.csv')\n",
    "df.head(len(df))"
   ]
  },
  {
   "cell_type": "code",
   "execution_count": 21,
   "metadata": {
    "collapsed": true
   },
   "outputs": [],
   "source": [
    "def bipartite_draw(G, nodes=None, label_pos=0.4):\n",
    "    temp_G = G.copy()\n",
    "    \n",
    "    if nodes:\n",
    "        for n in G:\n",
    "            if n not in nodes:\n",
    "                temp_G.remove_node(n)\n",
    "    \n",
    "    # need this to draw weights later\n",
    "    pos = nx.spring_layout(temp_G)\n",
    "\n",
    "    # Separate by group (uses original graph because temp_G may not be able to differentiate)\n",
    "    l, r = nx.bipartite.sets(G)\n",
    "    pos = {}\n",
    "\n",
    "    # Update position for node from each group\n",
    "    pos.update((node, (1, index)) for index, node in enumerate(l))\n",
    "    pos.update((node, (2, index)) for index, node in enumerate(r))\n",
    "\n",
    "    nx.draw(temp_G, pos=pos, with_labels=True)\n",
    "    nx.draw_networkx_edge_labels(temp_G, pos, label_pos=label_pos)\n",
    "        \n",
    "    plt.show()"
   ]
  },
  {
   "cell_type": "code",
   "execution_count": 22,
   "metadata": {},
   "outputs": [
    {
     "data": {
      "image/png": "[encoded data removed]",
      "text/plain": [
       "<matplotlib.figure.Figure at 0x7fd60b14aa90>"
      ]
     },
     "metadata": {},
     "output_type": "display_data"
    }
   ],
   "source": [
    "G = nx.from_pandas_edgelist(df, 'defense', 'player', ['actual']).to_undirected()\n",
    "\n",
    "bipartite_draw(G)"
   ]
  },
  {
   "cell_type": "code",
   "execution_count": 23,
   "metadata": {
    "collapsed": true
   },
   "outputs": [],
   "source": [
    "def generate_triangle_dict(G, edge, edge_list):\n",
    "    defense, player = split_edge(edge)\n",
    "    \n",
    "    triangle_dict = {}\n",
    "\n",
    "    #print(defense)\n",
    "    \n",
    "    for player_other in G[defense]:\n",
    "        if player_other != player:\n",
    "            for defense_other in G[player_other]:\n",
    "                if defense_other != defense and player in G[defense_other]:\n",
    "                    \n",
    "                    edge_key = (player_other, defense_other)\n",
    "                    if edge_key not in edge_list:\n",
    "                        edge_key = (defense_other, player_other)\n",
    "                    \n",
    "                    other_other = G[defense_other][player_other]['actual']\n",
    "                    this_other = G[defense_other][player]['actual']\n",
    "                    other_this = G[defense][player_other]['actual']\n",
    "                    \n",
    "                    predicted = (this_other/other_other) * other_this\n",
    "                                        \n",
    "                    triangle_dict[edge_key] = predicted\n",
    "                        \n",
    "    return triangle_dict  \n",
    "    \n",
    "def split_edge(edge):\n",
    "    if 'Defense' in edge[0]:\n",
    "        return (edge[0], edge[1])\n",
    "    return (edge[1], edge[0])"
   ]
  },
  {
   "cell_type": "markdown",
   "metadata": {},
   "source": [
    "### Note:\n",
    "Each edge has 4 triangles - in real situation, each edge will have varying number of triangles. \n",
    "\n",
    "3 things that will have to be decided or tested are the number of triangles that are pulled out for each edge (m), how these m triangles are decided, and how the m triangles are ranked (from T1 to Tm)."
   ]
  },
  {
   "cell_type": "code",
   "execution_count": 24,
   "metadata": {
    "scrolled": false
   },
   "outputs": [
    {
     "name": "stdout",
     "output_type": "stream",
     "text": [
      "('Defense_A', 'Player_W')\n",
      "--------------------\n",
      "{('Player_X', 'Defense_B'): 20.125, ('Player_X', 'Defense_C'): 16.625, ('Player_Y', 'Defense_B'): 4.6000000000000005, ('Player_Y', 'Defense_C'): 3.275862068965517}\n",
      "\n",
      "\n",
      "('Defense_A', 'Player_X')\n",
      "--------------------\n",
      "{('Player_W', 'Defense_B'): 20.869565217391305, ('Player_W', 'Defense_C'): 25.263157894736842, ('Player_Y', 'Defense_B'): 4.8, ('Player_Y', 'Defense_C'): 4.137931034482759}\n",
      "\n",
      "\n",
      "('Defense_A', 'Player_Y')\n",
      "--------------------\n",
      "{('Player_W', 'Defense_B'): 21.73913043478261, ('Player_W', 'Defense_C'): 30.526315789473685, ('Player_X', 'Defense_B'): 21.875, ('Player_X', 'Defense_C'): 25.375}\n",
      "\n",
      "\n",
      "('Player_W', 'Defense_B')\n",
      "--------------------\n",
      "{('Defense_A', 'Player_X'): 22.857142857142854, ('Player_X', 'Defense_C'): 19.0, ('Defense_A', 'Player_Y'): 100.0, ('Player_Y', 'Defense_C'): 16.379310344827587}\n",
      "\n",
      "\n",
      "('Player_W', 'Defense_C')\n",
      "--------------------\n",
      "{('Defense_A', 'Player_X'): 22.857142857142854, ('Player_X', 'Defense_B'): 23.0, ('Defense_A', 'Player_Y'): 116.0, ('Player_Y', 'Defense_B'): 26.68}\n",
      "\n",
      "\n",
      "('Player_X', 'Defense_B')\n",
      "--------------------\n",
      "{('Defense_A', 'Player_W'): 24.150000000000002, ('Player_W', 'Defense_C'): 29.052631578947366, ('Defense_A', 'Player_Y'): 105.0, ('Player_Y', 'Defense_C'): 20.689655172413794}\n",
      "\n",
      "\n",
      "('Player_X', 'Defense_C')\n",
      "--------------------\n",
      "{('Defense_A', 'Player_W'): 19.95, ('Player_W', 'Defense_B'): 19.82608695652174, ('Defense_A', 'Player_Y'): 121.80000000000001, ('Player_Y', 'Defense_B'): 27.84}\n",
      "\n",
      "\n",
      "('Player_Y', 'Defense_B')\n",
      "--------------------\n",
      "{('Defense_A', 'Player_W'): 5.75, ('Player_W', 'Defense_C'): 35.10526315789474, ('Defense_A', 'Player_X'): 5.7142857142857135, ('Player_X', 'Defense_C'): 29.0}\n",
      "\n",
      "\n",
      "('Player_Y', 'Defense_C')\n",
      "--------------------\n",
      "{('Defense_A', 'Player_W'): 4.75, ('Player_W', 'Defense_B'): 20.652173913043477, ('Defense_A', 'Player_X'): 5.7142857142857135, ('Player_X', 'Defense_B'): 25.0}\n",
      "\n",
      "\n"
     ]
    }
   ],
   "source": [
    "edge_list = list(G.edges())\n",
    "for edge in edge_list:\n",
    "    print(edge)\n",
    "    print('--------------------')\n",
    "    print(generate_triangle_dict(G, edge, edge_list))\n",
    "    print('\\n')"
   ]
  },
  {
   "cell_type": "markdown",
   "metadata": {},
   "source": [
    "### Build Matrices\n",
    "\n",
    "pred_mat = Nxm matrix of predictions\n",
    "\n",
    "actual = Nx1 matrix of actual values\n",
    "\n",
    "(Will not change as parameters change)\n",
    "Note: N = number of edges/games"
   ]
  },
  {
   "cell_type": "code",
   "execution_count": 42,
   "metadata": {
    "collapsed": true
   },
   "outputs": [],
   "source": [
    "import numpy as np\n",
    "\n",
    "#m = 4\n",
    "pred_rows = []\n",
    "actual_rows = []\n",
    "\n",
    "for edge in edge_list:\n",
    "    # pred\n",
    "    tri_dict = generate_triangle_dict(G, edge, edge_list)\n",
    "    pred_list = list(tri_dict.values())\n",
    "    pred_list.sort()\n",
    "    pred_rows.append(np.array(pred_list))\n",
    "    \n",
    "    # actual\n",
    "    defense, player = split_edge(edge)\n",
    "    actual = G[defense][player]['actual']\n",
    "    actual_rows.append(np.array([actual]))\n",
    "    "
   ]
  },
  {
   "cell_type": "code",
   "execution_count": 35,
   "metadata": {
    "collapsed": true
   },
   "outputs": [],
   "source": [
    "np.set_printoptions(precision=2)"
   ]
  },
  {
   "cell_type": "code",
   "execution_count": 45,
   "metadata": {},
   "outputs": [
    {
     "data": {
      "text/plain": [
       "array([[   3.28,    4.6 ,   16.62,   20.12],\n",
       "       [   4.14,    4.8 ,   20.87,   25.26],\n",
       "       [  21.74,   21.88,   25.38,   30.53],\n",
       "       [  16.38,   19.  ,   22.86,  100.  ],\n",
       "       [  22.86,   23.  ,   26.68,  116.  ],\n",
       "       [  20.69,   24.15,   29.05,  105.  ],\n",
       "       [  19.83,   19.95,   27.84,  121.8 ],\n",
       "       [   5.71,    5.75,   29.  ,   35.11],\n",
       "       [   4.75,    5.71,   20.65,   25.  ]])"
      ]
     },
     "execution_count": 45,
     "metadata": {},
     "output_type": "execute_result"
    }
   ],
   "source": [
    "m_mat = np.vstack(pred_rows)\n",
    "\n",
    "m_mat"
   ]
  },
  {
   "cell_type": "code",
   "execution_count": 46,
   "metadata": {},
   "outputs": [
    {
     "data": {
      "text/plain": [
       "array([[20],\n",
       "       [21],\n",
       "       [ 5],\n",
       "       [23],\n",
       "       [19],\n",
       "       [24],\n",
       "       [24],\n",
       "       [25],\n",
       "       [29]])"
      ]
     },
     "execution_count": 46,
     "metadata": {},
     "output_type": "execute_result"
    }
   ],
   "source": [
    "actual_mat = np.vstack(actual_rows)\n",
    "\n",
    "actual_mat"
   ]
  },
  {
   "cell_type": "markdown",
   "metadata": {},
   "source": [
    "## Implementation of different prediction methods"
   ]
  },
  {
   "cell_type": "markdown",
   "metadata": {},
   "source": [
    "#### Linear Regression"
   ]
  },
  {
   "cell_type": "code",
   "execution_count": 47,
   "metadata": {},
   "outputs": [
    {
     "data": {
      "text/plain": [
       "array([[-2.1 ,  0.94,  0.47,  0.16]])"
      ]
     },
     "execution_count": 47,
     "metadata": {},
     "output_type": "execute_result"
    }
   ],
   "source": [
    "from sklearn.linear_model import LinearRegression\n",
    "\n",
    "regr = LinearRegression()\n",
    "\n",
    "regr.fit(m_mat, actual_mat)\n",
    "\n",
    "regr.coef_"
   ]
  },
  {
   "cell_type": "code",
   "execution_count": 50,
   "metadata": {},
   "outputs": [
    {
     "data": {
      "text/plain": [
       "array([[ 22.11],\n",
       "       [ 23.32],\n",
       "       [  5.4 ],\n",
       "       [ 24.12],\n",
       "       [ 18.68],\n",
       "       [ 23.64],\n",
       "       [ 23.67],\n",
       "       [ 26.32],\n",
       "       [ 22.75]])"
      ]
     },
     "execution_count": 50,
     "metadata": {},
     "output_type": "execute_result"
    }
   ],
   "source": [
    "# obviously in practice will have separate, clean test data\n",
    "\n",
    "regr.predict(m_mat)"
   ]
  },
  {
   "cell_type": "markdown",
   "metadata": {},
   "source": [
    "#### Random Forest Regressor\n",
    "\n",
    "Need to transform actual_mat from Nx1 to 1xN?"
   ]
  },
  {
   "cell_type": "code",
   "execution_count": 53,
   "metadata": {},
   "outputs": [
    {
     "data": {
      "text/plain": [
       "array([20, 21,  5, 23, 19, 24, 24, 25, 29])"
      ]
     },
     "execution_count": 53,
     "metadata": {},
     "output_type": "execute_result"
    }
   ],
   "source": [
    "from sklearn.ensemble import RandomForestRegressor\n",
    "\n",
    "regr = RandomForestRegressor()\n",
    "\n",
    "actual_mat.ravel()\n"
   ]
  },
  {
   "cell_type": "code",
   "execution_count": 57,
   "metadata": {},
   "outputs": [
    {
     "name": "stdout",
     "output_type": "stream",
     "text": [
      "22.0\n",
      "22.6\n",
      "8.2\n",
      "22.5\n",
      "16.8\n",
      "22.2\n",
      "22.1\n",
      "24.6\n",
      "28.2\n"
     ]
    }
   ],
   "source": [
    "regr.fit(m_mat, actual_mat.ravel())\n",
    "\n",
    "# no coef in this model\n",
    "#regr.coef_\n",
    "\n",
    "for x in regr.predict(m_mat):\n",
    "    print(x)"
   ]
  }
 ],
 "metadata": {
  "kernelspec": {
   "display_name": "Python 3",
   "language": "python",
   "name": "python3"
  },
  "language_info": {
   "codemirror_mode": {
    "name": "ipython",
    "version": 3
   },
   "file_extension": ".py",
   "mimetype": "text/x-python",
   "name": "python",
   "nbconvert_exporter": "python",
   "pygments_lexer": "ipython3",
   "version": "3.6.3"
  }
 },
 "nbformat": 4,
 "nbformat_minor": 2
}
