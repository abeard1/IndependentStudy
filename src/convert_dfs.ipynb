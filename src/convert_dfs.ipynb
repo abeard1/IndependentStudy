{
 "cells": [
  {
   "cell_type": "markdown",
   "metadata": {},
   "source": [
    "## Convert df_possible to df_actual"
   ]
  },
  {
   "cell_type": "code",
   "execution_count": 2,
   "metadata": {},
   "outputs": [
    {
     "name": "stdout",
     "output_type": "stream",
     "text": [
      "2015\n",
      "13387\n",
      "2016\n",
      "13736\n",
      "2017\n",
      "9080\n"
     ]
    }
   ],
   "source": [
    "import pandas as pd\n",
    "\n",
    "years = [2015, 2016, 2017]\n",
    "\n",
    "for year in years:\n",
    "    print(year)\n",
    "    \n",
    "    df_possible = pd.read_csv('df_possibles/df_possible_{}.csv'.format(year))\n",
    "    \n",
    "    print(len(df_possible[df_possible['times_played'] > 0]))\n",
    "    \n",
    "    df_actual = df_possible[df_possible['times_played'] > 0]\n",
    "    \n",
    "    # save csv\n",
    "    file_name = 'df_actuals/df_actual_{}.csv'.format(year)\n",
    "    df_actual.to_csv(file_name, index=False)"
   ]
  },
  {
   "cell_type": "code",
   "execution_count": 3,
   "metadata": {},
   "outputs": [
    {
     "name": "stdout",
     "output_type": "stream",
     "text": [
      "2015\n",
      "13387\n",
      "['Defense_aries-trikala' 'Defense_drama' 'Defense_aek-athens'\n",
      " 'Defense_koroivos' 'Defense_apollon-patras' 'Defense_olympiakos'\n",
      " 'Defense_nea-kifisia' 'Defense_panathinaikos' 'Defense_aris'\n",
      " 'Defense_panelefsiniakos' 'Defense_rhodes' 'Defense_panionios'\n",
      " 'Defense_rethymno' 'Defense_paok' 'Defense_cantu' 'Defense_gran-canaria'\n",
      " 'Defense_paris-levallois' 'Defense_zaragoza' 'Defense_reggio-emilia'\n",
      " 'Defense_nancy' 'Defense_roma' 'Defense_strasbourg' 'Defense_dijon'\n",
      " 'Defense_villeurbanne' 'Defense_sevilla' 'Defense_valencia'\n",
      " 'Defense_limoges' 'Defense_sassari' 'Defense_vitoria' 'Defense_barcelona'\n",
      " 'Defense_manresa' 'Defense_obradoiro' 'Defense_canarias'\n",
      " 'Defense_fuenlabrada' 'Defense_bilbao' 'Defense_san-sebastian'\n",
      " 'Defense_estudiantes' 'Defense_murcia' 'Defense_real-madrid'\n",
      " 'Defense_andorra' 'Defense_unicaja-malaga' 'Defense_joventut'\n",
      " 'Defense_milano' 'Defense_cremona' 'Defense_venezia' 'Defense_avellino'\n",
      " 'Defense_pesaro' 'Defense_brindisi' 'Defense_pistoia' 'Defense_orlandina'\n",
      " 'Defense_caserta' 'Defense_virtus-bologna' 'Defense_trento'\n",
      " 'Defense_varese' 'Defense_orleans' 'Defense_pau-orthez' 'Defense_le-havre'\n",
      " 'Defense_bourg' 'Defense_cholet' 'Defense_rouen' 'Defense_le-mans'\n",
      " 'Defense_chalon' 'Defense_nanterre' 'Defense_reims' 'Defense_gravelines'\n",
      " 'Defense_boulogne']\n",
      "2016\n",
      "13736\n",
      "['Defense_paok' 'Defense_aek-athens' 'Defense_lavrio' 'Defense_kavala'\n",
      " 'Defense_aries-trikala' 'Defense_koroivos' 'Defense_apollon-patras'\n",
      " 'Defense_rethymno' 'Defense_panathinaikos' 'Defense_aris'\n",
      " 'Defense_arkadikos' 'Defense_nea-kifisia' 'Defense_rhodes'\n",
      " 'Defense_olympiakos' 'Defense_gran-canaria' 'Defense_le-mans'\n",
      " 'Defense_valencia' 'Defense_nancy' 'Defense_nanterre' 'Defense_bilbao'\n",
      " 'Defense_brindisi' 'Defense_reggio-emilia' 'Defense_zaragoza'\n",
      " 'Defense_venezia' 'Defense_trento' 'Defense_strasbourg' 'Defense_milano'\n",
      " 'Defense_limoges' 'Defense_sassari' 'Defense_manresa'\n",
      " 'Defense_fuenlabrada' 'Defense_san-sebastian' 'Defense_canarias'\n",
      " 'Defense_joventut' 'Defense_andorra' 'Defense_barcelona' 'Defense_vitoria'\n",
      " 'Defense_estudiantes' 'Defense_unicaja-malaga' 'Defense_murcia'\n",
      " 'Defense_sevilla' 'Defense_obradoiro' 'Defense_real-madrid'\n",
      " 'Defense_pesaro' 'Defense_avellino' 'Defense_cantu' 'Defense_orlandina'\n",
      " 'Defense_pistoia' 'Defense_cremona' 'Defense_caserta' 'Defense_varese'\n",
      " 'Defense_virtus-bologna' 'Defense_turin' 'Defense_rouen'\n",
      " 'Defense_gravelines' 'Defense_le-havre' 'Defense_chalon' 'Defense_cholet'\n",
      " 'Defense_orleans' 'Defense_dijon' 'Defense_paris-levallois'\n",
      " 'Defense_chalons-en-champagne' 'Defense_pau-orthez' 'Defense_villeurbanne'\n",
      " 'Defense_monaco' 'Defense_antibes']\n",
      "2017\n",
      "9080\n",
      "['Defense_aries-trikala' 'Defense_aris' 'Defense_paok' 'Defense_doxa-bc'\n",
      " 'Defense_olympiakos' 'Defense_koroivos' 'Defense_kymis-bc'\n",
      " 'Defense_lavrio' 'Defense_rethymno' 'Defense_rhodes' 'Defense_aek-athens'\n",
      " 'Defense_apollon-patras' 'Defense_promitheas' 'Defense_panathinaikos'\n",
      " 'Defense_bilbao' 'Defense_fuenlabrada' 'Defense_unicaja-malaga'\n",
      " 'Defense_murcia' 'Defense_gran-canaria' 'Defense_valencia'\n",
      " 'Defense_real-madrid' 'Defense_sevilla' 'Defense_estudiantes'\n",
      " 'Defense_vitoria' 'Defense_obradoiro' 'Defense_canarias'\n",
      " 'Defense_barcelona' 'Defense_manresa' 'Defense_joventut'\n",
      " 'Defense_zaragoza' 'Defense_andorra' 'Defense_turin' 'Defense_avellino'\n",
      " 'Defense_trento' 'Defense_brindisi' 'Defense_venezia' 'Defense_cantu'\n",
      " 'Defense_reggio-emilia' 'Defense_caserta' 'Defense_milano'\n",
      " 'Defense_orlandina' 'Defense_pistoia' 'Defense_cremona' 'Defense_varese'\n",
      " 'Defense_sassari' 'Defense_pesaro' 'Defense_brescia']\n"
     ]
    }
   ],
   "source": [
    "for year in years:\n",
    "    print(year)\n",
    "    \n",
    "    file_name = 'df_actuals/df_actual_{}.csv'.format(year)\n",
    "    df_actual_test = pd.read_csv(file_name)\n",
    "    \n",
    "    print(len(df_actual_test))\n",
    "    \n",
    "    print(df_actual_test['defense'].unique())"
   ]
  }
 ],
 "metadata": {
  "kernelspec": {
   "display_name": "Python 3",
   "language": "python",
   "name": "python3"
  },
  "language_info": {
   "codemirror_mode": {
    "name": "ipython",
    "version": 3
   },
   "file_extension": ".py",
   "mimetype": "text/x-python",
   "name": "python",
   "nbconvert_exporter": "python",
   "pygments_lexer": "ipython3",
   "version": "3.6.3"
  }
 },
 "nbformat": 4,
 "nbformat_minor": 2
}
