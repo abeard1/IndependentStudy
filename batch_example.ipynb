{
 "cells": [
  {
   "cell_type": "code",
   "execution_count": 1,
   "metadata": {
    "collapsed": true
   },
   "outputs": [],
   "source": [
    "import pandas as pd\n",
    "import networkx as nx\n",
    "import numpy as np\n",
    "import time\n",
    "import operator"
   ]
  },
  {
   "cell_type": "markdown",
   "metadata": {},
   "source": [
    "### Initialize Strategies"
   ]
  },
  {
   "cell_type": "code",
   "execution_count": 2,
   "metadata": {
    "collapsed": true
   },
   "outputs": [],
   "source": [
    "from sklearn.linear_model import LinearRegression\n",
    "from sklearn.ensemble import RandomForestRegressor\n",
    "\n",
    "import strategies\n",
    "\n",
    "strategies = [strategies.Strategy('top_5_linreg', strategies.select_top_5_gp, LinearRegression() ),\n",
    "              strategies.Strategy('top_10_linreg', strategies.select_top_10_gp, LinearRegression() )\n",
    "             ]\n"
   ]
  },
  {
   "cell_type": "markdown",
   "metadata": {},
   "source": [
    "### Run"
   ]
  },
  {
   "cell_type": "code",
   "execution_count": 3,
   "metadata": {},
   "outputs": [
    {
     "name": "stdout",
     "output_type": "stream",
     "text": [
      "NEW RUN\n",
      "2015\n",
      "pts_per_min\n",
      "top_5_linreg\n",
      "TRAIN\n",
      "num of rows: 13160\n",
      "0\n",
      "1523408968.591612\n",
      "500\n",
      "1523408971.7743013\n",
      "1000\n",
      "1523408975.6811287\n",
      "1500\n",
      "1523408979.238056\n",
      "2000\n",
      "1523408982.5361507\n",
      "2500\n",
      "1523408986.7572048\n",
      "3000\n",
      "1523408990.0522215\n",
      "3500\n",
      "1523408994.117048\n",
      "4000\n",
      "1523408996.056888\n",
      "4500\n",
      "1523409000.8967113\n",
      "5000\n",
      "1523409004.013381\n",
      "5500\n",
      "1523409008.7373605\n",
      "6000\n",
      "1523409012.9306254\n",
      "6500\n",
      "1523409017.0956244\n"
     ]
    },
    {
     "ename": "KeyboardInterrupt",
     "evalue": "",
     "output_type": "error",
     "traceback": [
      "\u001b[0;31m---------------------------------------------------------------------------\u001b[0m",
      "\u001b[0;31mKeyboardInterrupt\u001b[0m                         Traceback (most recent call last)",
      "\u001b[0;32m<ipython-input-3-a9fdca30918c>\u001b[0m in \u001b[0;36m<module>\u001b[0;34m()\u001b[0m\n\u001b[1;32m     61\u001b[0m                 \u001b[0mcount\u001b[0m \u001b[0;34m+=\u001b[0m \u001b[0;36m1\u001b[0m\u001b[0;34m\u001b[0m\u001b[0m\n\u001b[1;32m     62\u001b[0m \u001b[0;34m\u001b[0m\u001b[0m\n\u001b[0;32m---> 63\u001b[0;31m                 \u001b[0mx\u001b[0m \u001b[0;34m=\u001b[0m \u001b[0mstrategy\u001b[0m\u001b[0;34m.\u001b[0m\u001b[0mparam_select_func\u001b[0m\u001b[0;34m(\u001b[0m\u001b[0mG_train\u001b[0m\u001b[0;34m,\u001b[0m \u001b[0mrow\u001b[0m\u001b[0;34m[\u001b[0m\u001b[0;34m'defense'\u001b[0m\u001b[0;34m]\u001b[0m\u001b[0;34m,\u001b[0m \u001b[0mrow\u001b[0m\u001b[0;34m[\u001b[0m\u001b[0;34m'player'\u001b[0m\u001b[0;34m]\u001b[0m\u001b[0;34m,\u001b[0m \u001b[0mstat\u001b[0m\u001b[0;34m)\u001b[0m\u001b[0;34m\u001b[0m\u001b[0m\n\u001b[0m\u001b[1;32m     64\u001b[0m \u001b[0;34m\u001b[0m\u001b[0m\n\u001b[1;32m     65\u001b[0m                 \u001b[0;31m# only add x,y to list if x actually returned value\u001b[0m\u001b[0;34m\u001b[0m\u001b[0;34m\u001b[0m\u001b[0m\n",
      "\u001b[0;32m~/basketball/ind_study/m_params/strategies.py\u001b[0m in \u001b[0;36mselect_top_5_gp\u001b[0;34m(G, defense, player, stat)\u001b[0m\n\u001b[1;32m     24\u001b[0m \u001b[0;34m\u001b[0m\u001b[0m\n\u001b[1;32m     25\u001b[0m \u001b[0;32mdef\u001b[0m \u001b[0mselect_top_5_gp\u001b[0m\u001b[0;34m(\u001b[0m\u001b[0mG\u001b[0m\u001b[0;34m,\u001b[0m \u001b[0mdefense\u001b[0m\u001b[0;34m,\u001b[0m \u001b[0mplayer\u001b[0m\u001b[0;34m,\u001b[0m \u001b[0mstat\u001b[0m\u001b[0;34m)\u001b[0m\u001b[0;34m:\u001b[0m\u001b[0;34m\u001b[0m\u001b[0m\n\u001b[0;32m---> 26\u001b[0;31m     \u001b[0;32mreturn\u001b[0m \u001b[0mselect_top_m_gp\u001b[0m\u001b[0;34m(\u001b[0m\u001b[0;36m5\u001b[0m\u001b[0;34m,\u001b[0m \u001b[0mG\u001b[0m\u001b[0;34m,\u001b[0m \u001b[0mdefense\u001b[0m\u001b[0;34m,\u001b[0m \u001b[0mplayer\u001b[0m\u001b[0;34m,\u001b[0m \u001b[0mstat\u001b[0m\u001b[0;34m)\u001b[0m\u001b[0;34m\u001b[0m\u001b[0m\n\u001b[0m\u001b[1;32m     27\u001b[0m \u001b[0;34m\u001b[0m\u001b[0m\n\u001b[1;32m     28\u001b[0m \u001b[0;32mdef\u001b[0m \u001b[0mselect_top_10_gp\u001b[0m\u001b[0;34m(\u001b[0m\u001b[0mG\u001b[0m\u001b[0;34m,\u001b[0m \u001b[0mdefense\u001b[0m\u001b[0;34m,\u001b[0m \u001b[0mplayer\u001b[0m\u001b[0;34m,\u001b[0m \u001b[0mstat\u001b[0m\u001b[0;34m)\u001b[0m\u001b[0;34m:\u001b[0m\u001b[0;34m\u001b[0m\u001b[0m\n",
      "\u001b[0;32m~/basketball/ind_study/m_params/strategies.py\u001b[0m in \u001b[0;36mselect_top_m_gp\u001b[0;34m(m, G, defense, player, stat)\u001b[0m\n\u001b[1;32m     14\u001b[0m \u001b[0;34m\u001b[0m\u001b[0m\n\u001b[1;32m     15\u001b[0m \u001b[0;32mdef\u001b[0m \u001b[0mselect_top_m_gp\u001b[0m\u001b[0;34m(\u001b[0m\u001b[0mm\u001b[0m\u001b[0;34m,\u001b[0m \u001b[0mG\u001b[0m\u001b[0;34m,\u001b[0m \u001b[0mdefense\u001b[0m\u001b[0;34m,\u001b[0m \u001b[0mplayer\u001b[0m\u001b[0;34m,\u001b[0m \u001b[0mstat\u001b[0m\u001b[0;34m)\u001b[0m\u001b[0;34m:\u001b[0m\u001b[0;34m\u001b[0m\u001b[0m\n\u001b[0;32m---> 16\u001b[0;31m     \u001b[0mtriangle_list\u001b[0m \u001b[0;34m=\u001b[0m \u001b[0mgenerate_triangles\u001b[0m\u001b[0;34m(\u001b[0m\u001b[0mG\u001b[0m\u001b[0;34m,\u001b[0m \u001b[0mdefense\u001b[0m\u001b[0;34m,\u001b[0m \u001b[0mplayer\u001b[0m\u001b[0;34m,\u001b[0m \u001b[0mstat\u001b[0m\u001b[0;34m)\u001b[0m\u001b[0;34m\u001b[0m\u001b[0m\n\u001b[0m\u001b[1;32m     17\u001b[0m \u001b[0;34m\u001b[0m\u001b[0m\n\u001b[1;32m     18\u001b[0m     \u001b[0mtriangle_list\u001b[0m\u001b[0;34m.\u001b[0m\u001b[0msort\u001b[0m\u001b[0;34m(\u001b[0m\u001b[0mkey\u001b[0m\u001b[0;34m=\u001b[0m\u001b[0moperator\u001b[0m\u001b[0;34m.\u001b[0m\u001b[0mitemgetter\u001b[0m\u001b[0;34m(\u001b[0m\u001b[0;36m1\u001b[0m\u001b[0;34m)\u001b[0m\u001b[0;34m,\u001b[0m \u001b[0mreverse\u001b[0m\u001b[0;34m=\u001b[0m\u001b[0;32mTrue\u001b[0m\u001b[0;34m)\u001b[0m\u001b[0;34m\u001b[0m\u001b[0m\n",
      "\u001b[0;32m~/basketball/ind_study/m_params/strategies.py\u001b[0m in \u001b[0;36mgenerate_triangles\u001b[0;34m(G, defense, player, stat)\u001b[0m\n\u001b[1;32m     36\u001b[0m     \u001b[0;32mfor\u001b[0m \u001b[0mplayer_other\u001b[0m \u001b[0;32min\u001b[0m \u001b[0mG\u001b[0m\u001b[0;34m[\u001b[0m\u001b[0mdefense\u001b[0m\u001b[0;34m]\u001b[0m\u001b[0;34m:\u001b[0m\u001b[0;34m\u001b[0m\u001b[0m\n\u001b[1;32m     37\u001b[0m         \u001b[0;32mif\u001b[0m \u001b[0mplayer_other\u001b[0m \u001b[0;34m!=\u001b[0m \u001b[0mplayer\u001b[0m\u001b[0;34m:\u001b[0m\u001b[0;34m\u001b[0m\u001b[0m\n\u001b[0;32m---> 38\u001b[0;31m             \u001b[0;32mfor\u001b[0m \u001b[0mdefense_other\u001b[0m \u001b[0;32min\u001b[0m \u001b[0mG\u001b[0m\u001b[0;34m[\u001b[0m\u001b[0mplayer_other\u001b[0m\u001b[0;34m]\u001b[0m\u001b[0;34m:\u001b[0m\u001b[0;34m\u001b[0m\u001b[0m\n\u001b[0m\u001b[1;32m     39\u001b[0m                 \u001b[0;32mif\u001b[0m \u001b[0mdefense_other\u001b[0m \u001b[0;34m!=\u001b[0m \u001b[0mdefense\u001b[0m \u001b[0;32mand\u001b[0m \u001b[0mplayer\u001b[0m \u001b[0;32min\u001b[0m \u001b[0mG\u001b[0m\u001b[0;34m[\u001b[0m\u001b[0mdefense_other\u001b[0m\u001b[0;34m]\u001b[0m\u001b[0;34m:\u001b[0m\u001b[0;34m\u001b[0m\u001b[0m\n\u001b[1;32m     40\u001b[0m \u001b[0;34m\u001b[0m\u001b[0m\n",
      "\u001b[0;32m~/anaconda3/lib/python3.6/site-packages/networkx/classes/graph.py\u001b[0m in \u001b[0;36m__getitem__\u001b[0;34m(self, n)\u001b[0m\n\u001b[1;32m    436\u001b[0m         \u001b[0mAtlasView\u001b[0m\u001b[0;34m(\u001b[0m\u001b[0;34m{\u001b[0m\u001b[0;36m1\u001b[0m\u001b[0;34m:\u001b[0m \u001b[0;34m{\u001b[0m\u001b[0;34m}\u001b[0m\u001b[0;34m}\u001b[0m\u001b[0;34m)\u001b[0m\u001b[0;34m\u001b[0m\u001b[0m\n\u001b[1;32m    437\u001b[0m         \"\"\"\n\u001b[0;32m--> 438\u001b[0;31m         \u001b[0;32mreturn\u001b[0m \u001b[0mself\u001b[0m\u001b[0;34m.\u001b[0m\u001b[0madj\u001b[0m\u001b[0;34m[\u001b[0m\u001b[0mn\u001b[0m\u001b[0;34m]\u001b[0m\u001b[0;34m\u001b[0m\u001b[0m\n\u001b[0m\u001b[1;32m    439\u001b[0m \u001b[0;34m\u001b[0m\u001b[0m\n\u001b[1;32m    440\u001b[0m     \u001b[0;32mdef\u001b[0m \u001b[0madd_node\u001b[0m\u001b[0;34m(\u001b[0m\u001b[0mself\u001b[0m\u001b[0;34m,\u001b[0m \u001b[0mn\u001b[0m\u001b[0;34m,\u001b[0m \u001b[0;34m**\u001b[0m\u001b[0mattr\u001b[0m\u001b[0;34m)\u001b[0m\u001b[0;34m:\u001b[0m\u001b[0;34m\u001b[0m\u001b[0m\n",
      "\u001b[0;32m~/anaconda3/lib/python3.6/site-packages/networkx/classes/graph.py\u001b[0m in \u001b[0;36madj\u001b[0;34m(self)\u001b[0m\n\u001b[1;32m    314\u001b[0m         \u001b[0mself\u001b[0m\u001b[0;34m.\u001b[0m\u001b[0mgraph\u001b[0m\u001b[0;34m.\u001b[0m\u001b[0mupdate\u001b[0m\u001b[0;34m(\u001b[0m\u001b[0mattr\u001b[0m\u001b[0;34m)\u001b[0m\u001b[0;34m\u001b[0m\u001b[0m\n\u001b[1;32m    315\u001b[0m \u001b[0;34m\u001b[0m\u001b[0m\n\u001b[0;32m--> 316\u001b[0;31m     \u001b[0;34m@\u001b[0m\u001b[0mproperty\u001b[0m\u001b[0;34m\u001b[0m\u001b[0m\n\u001b[0m\u001b[1;32m    317\u001b[0m     \u001b[0;32mdef\u001b[0m \u001b[0madj\u001b[0m\u001b[0;34m(\u001b[0m\u001b[0mself\u001b[0m\u001b[0;34m)\u001b[0m\u001b[0;34m:\u001b[0m\u001b[0;34m\u001b[0m\u001b[0m\n\u001b[1;32m    318\u001b[0m         \"\"\"Graph adjacency object holding the neighbors of each node.\n",
      "\u001b[0;31mKeyboardInterrupt\u001b[0m: "
     ]
    }
   ],
   "source": [
    "import random\n",
    "test_fraction = 0.3\n",
    "\n",
    "years = [2015, 2016, 2017]\n",
    "stats = ['pts_per_min', 'trb_per_min', 'ast_per_min', 'blk_per_min', 'stl_per_min']\n",
    "\n",
    "results_dict = {}\n",
    "\n",
    "\n",
    "for year in years:\n",
    "    df_full = pd.read_csv('df_actuals/actual_df_{}.csv'.format(year))\n",
    "    \n",
    "    # split df\n",
    "    indices = list(range(len(df_full)))\n",
    "    num_hidden = int(test_fraction * len(df_full))\n",
    "    hidden_indices = random.sample(indices, num_hidden)\n",
    "    \n",
    "    df_full['hidden'] = 'False'\n",
    "    for index in hidden_indices:\n",
    "        df_full.at[index, 'hidden'] = 'True'\n",
    "        \n",
    "    df_train = df_full[df_full['hidden'] == 'False']\n",
    "    df_test = df_full[df_full['hidden'] == 'True']\n",
    "    \n",
    "    #print(df_full.index.values.tolist())\n",
    "    #print(df_train.index.values.tolist())\n",
    "    #print(df_test.index.values.tolist())\n",
    "\n",
    "\n",
    "\n",
    "\n",
    "    \n",
    "        \n",
    "    # create graphs from respective datasets\n",
    "    edge_attrs = stats + ['times_played']\n",
    "    \n",
    "    G_train = nx.from_pandas_edgelist(df_train, 'defense', 'player', edge_attrs).to_undirected()\n",
    "    G_full = nx.from_pandas_edgelist(df_full, 'defense', 'player', edge_attrs).to_undirected()\n",
    "\n",
    "    for stat in stats:        \n",
    "        for strategy in strategies:\n",
    "            print('NEW RUN')\n",
    "            print(year)\n",
    "            print(stat)\n",
    "            print(strategy.name)\n",
    "            \n",
    "            # TRAIN\n",
    "            \n",
    "            train_x_list = []\n",
    "            train_y_list = []\n",
    "            \n",
    "            print('TRAIN')\n",
    "            print('num of rows: {}'.format(len(df_train)))\n",
    "                \n",
    "            # some problem with indexes - not sure what yet\n",
    "            count = 0\n",
    "            for index, row in df_train.iterrows():\n",
    "                if count % 500 == 0:\n",
    "                    print(count)\n",
    "                    print(time.time())\n",
    "                count += 1\n",
    "                \n",
    "                x = strategy.param_select_func(G_train, row['defense'], row['player'], stat)\n",
    "                \n",
    "                # only add x,y to list if x actually returned value\n",
    "                if type(x) == np.ndarray:\n",
    "                    train_x_list.append(x)\n",
    "                    y = np.array([row[stat]])\n",
    "                    train_y_list.append(y)\n",
    "                    \n",
    "            train_x = np.vstack(train_x_list)\n",
    "            train_y = np.vstack([arr.reshape((1, 1)) for arr in train_y_list])\n",
    "            \n",
    "            # TEST\n",
    "            \n",
    "            test_x_list = []\n",
    "            test_y_list = []\n",
    "                  \n",
    "            print('TEST')\n",
    "            print('num of rows: {}'.format(len(df_test)))\n",
    "                  \n",
    "            count = 0\n",
    "            for index, row in df_test.iterrows():\n",
    "                if count % 500 == 0:\n",
    "                    print(count)\n",
    "                    print(time.time())\n",
    "                count += 1\n",
    "                \n",
    "                x = strategy.param_select_func(G_full, row['defense'], row['player'], stat)\n",
    "                \n",
    "                # only add x,y to list if x actually returned value\n",
    "                if type(x) == np.ndarray:\n",
    "                    test_x_list.append(x)\n",
    "                    y = np.array([row[stat]])\n",
    "                    test_y_list.append(y)\n",
    "                    \n",
    "            test_x = np.vstack(test_x_list)\n",
    "            test_y = np.vstack([arr.reshape((1, 1)) for arr in test_y_list])\n",
    "            \n",
    "            \n",
    "            # train model and use to predict test_y\n",
    "            print('fitting model')\n",
    "            print(time.time())\n",
    "            \n",
    "            strategy.model.fit(train_x, train_y)\n",
    "            \n",
    "            print(time.time())\n",
    "            \n",
    "            test_y_pred = strategy.model.predict(test_x)\n",
    "            \n",
    "            # save results\n",
    "            key = (year, stat, strategy.name)\n",
    "            results_dict[key] = [test_y, test_y_pred]\n"
   ]
  },
  {
   "cell_type": "code",
   "execution_count": null,
   "metadata": {
    "collapsed": true
   },
   "outputs": [],
   "source": [
    "import pickle\n",
    "\n",
    "with open('results1.pickle', 'wb') as handle:\n",
    "    pickle.dump(results_dict, handle)"
   ]
  },
  {
   "cell_type": "markdown",
   "metadata": {},
   "source": [
    "### View results\n",
    "\n",
    "results_dict[(year, stat, strategy_name)] = [actual_test_y, pred_test_y]"
   ]
  },
  {
   "cell_type": "code",
   "execution_count": null,
   "metadata": {
    "collapsed": true
   },
   "outputs": [],
   "source": [
    "results_dict"
   ]
  }
 ],
 "metadata": {
  "kernelspec": {
   "display_name": "Python 3",
   "language": "python",
   "name": "python3"
  },
  "language_info": {
   "codemirror_mode": {
    "name": "ipython",
    "version": 3
   },
   "file_extension": ".py",
   "mimetype": "text/x-python",
   "name": "python",
   "nbconvert_exporter": "python",
   "pygments_lexer": "ipython3",
   "version": "3.6.3"
  }
 },
 "nbformat": 4,
 "nbformat_minor": 2
}
