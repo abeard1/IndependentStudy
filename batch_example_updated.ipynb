{
 "cells": [
  {
   "cell_type": "code",
   "execution_count": 1,
   "metadata": {},
   "outputs": [],
   "source": [
    "import pandas as pd\n",
    "import networkx as nx\n",
    "import numpy as np\n",
    "import time\n",
    "import operator\n",
    "\n",
    "# holds different selection methods and triangle generator\n",
    "import fitting\n",
    "\n",
    "from sklearn.linear_model import LinearRegression\n",
    "from sklearn.ensemble import RandomForestRegressor\n",
    "\n",
    "\n",
    "lin_reg = LinearRegression()\n",
    "random_forest = RandomForestRegressor()"
   ]
  },
  {
   "cell_type": "markdown",
   "metadata": {},
   "source": [
    "### Run"
   ]
  },
  {
   "cell_type": "code",
   "execution_count": 2,
   "metadata": {
    "scrolled": false
   },
   "outputs": [
    {
     "name": "stdout",
     "output_type": "stream",
     "text": [
      "NEW RUN\n",
      "2015\n",
      "pts_per_min\n",
      "TRAIN\n",
      "num of rows: 12718\n",
      "0\n",
      "1525805035.179634\n",
      "500\n",
      "1525805044.7561643\n",
      "1000\n",
      "1525805054.8681405\n",
      "1500\n",
      "1525805064.3405414\n",
      "2000\n",
      "1525805074.1235137\n",
      "2500\n",
      "1525805083.8204327\n",
      "3000\n",
      "1525805096.5439203\n",
      "3500\n",
      "1525805111.0361266\n",
      "4000\n",
      "1525805123.295448\n",
      "4500\n",
      "1525805136.3570035\n",
      "5000\n",
      "1525805151.270362\n",
      "5500\n",
      "1525805164.2925963\n",
      "6000\n",
      "1525805180.1226914\n",
      "6500\n",
      "1525805196.222108\n",
      "7000\n",
      "1525805212.6280837\n",
      "7500\n",
      "1525805228.5673401\n",
      "8000\n",
      "1525805245.1868582\n",
      "8500\n",
      "1525805260.5602036\n",
      "9000\n",
      "1525805272.0590153\n",
      "9500\n",
      "1525805283.1585577\n",
      "10000\n",
      "1525805294.3278987\n",
      "10500\n",
      "1525805305.9073224\n",
      "11000\n",
      "1525805320.0279992\n",
      "11500\n",
      "1525805333.72302\n",
      "12000\n",
      "1525805347.6338391\n",
      "12500\n",
      "1525805361.4101546\n",
      "TEST\n",
      "num of rows: 669\n",
      "0\n",
      "1525805367.6698353\n",
      "500\n",
      "1525805382.2267852\n",
      "fitting linreg null\n",
      "1525805387.451362\n",
      "1525805387.478181\n",
      "fitting rf\n",
      "1525805387.4794302\n",
      "1525805387.8294842\n",
      "fitting linreg median_5\n",
      "1525805387.8331146\n",
      "1525805387.8357954\n",
      "fitting rf\n",
      "1525805387.8364189\n",
      "1525805388.771363\n",
      "fitting linreg median_10\n",
      "1525805388.7748835\n",
      "1525805388.7790654\n",
      "fitting rf\n",
      "1525805388.7796845\n",
      "1525805390.5171432\n",
      "fitting linreg mean_5\n",
      "1525805390.5216727\n",
      "1525805390.5285404\n",
      "fitting rf\n",
      "1525805390.5293105\n",
      "1525805391.6750965\n",
      "fitting linreg mean_10\n",
      "1525805391.6786044\n",
      "1525805391.6812134\n",
      "fitting rf\n",
      "1525805391.6818197\n",
      "1525805392.6356866\n",
      "results saved to results/pts_per_min2015_0.csv\n"
     ]
    }
   ],
   "source": [
    "import random\n",
    "test_fraction = 0.05\n",
    "num_iterations = 3\n",
    "\n",
    "#years = [2015, 2016, 2017]\n",
    "years = [2015]\n",
    "\n",
    "#stats = ['pts_per_min', 'trb_per_min', 'ast_per_min', 'blk_per_min', 'stl_per_min']\n",
    "stats = ['pts_per_min']\n",
    "\n",
    "\n",
    "\n",
    "for year in years:\n",
    "    df_full = pd.read_csv('df_actuals/df_actual_{}.csv'.format(year))\n",
    "    \n",
    "\n",
    "    for i in range(num_iterations):\n",
    "        # split df\n",
    "        indices = list(range(len(df_full)))\n",
    "        num_hidden = int(test_fraction * len(df_full))\n",
    "        hidden_indices = random.sample(indices, num_hidden)\n",
    "    \n",
    "        df_full['hidden'] = 'False'\n",
    "        for index in hidden_indices:\n",
    "            df_full.at[index, 'hidden'] = 'True'\n",
    "        \n",
    "            df_train = df_full[df_full['hidden'] == 'False']\n",
    "            df_test = df_full[df_full['hidden'] == 'True']\n",
    "    \n",
    "        #print(df_full.index.values.tolist())\n",
    "        #print(df_train.index.values.tolist())\n",
    "        #print(df_test.index.values.tolist())\n",
    "\n",
    "\n",
    "        # create graphs from respective datasets\n",
    "        edge_attrs = stats + ['times_played']\n",
    "\n",
    "        G_train = nx.from_pandas_edgelist(df_train, 'defense', 'player', edge_attrs).to_undirected()\n",
    "        G_full = nx.from_pandas_edgelist(df_full, 'defense', 'player', edge_attrs).to_undirected()\n",
    "        \n",
    "        for stat in stats:\n",
    "            \n",
    "            print('NEW RUN')\n",
    "            print(year)\n",
    "            print(stat)\n",
    "            \n",
    "            # do for all treatments at once\n",
    "            \n",
    "            # TRAIN\n",
    "            \n",
    "            train_x_lists = {}\n",
    "            train_y_lists = {}\n",
    "            \n",
    "            train_x_actual = {}\n",
    "            train_y_actual = {}\n",
    "            \n",
    "            for treatment in fitting.treatments:\n",
    "                train_x_lists[treatment] = []\n",
    "                train_y_lists[treatment] = []\n",
    "                \n",
    "            \n",
    "            print('TRAIN')\n",
    "            print('num of rows: {}'.format(len(df_train)))\n",
    "                \n",
    "            # some problem with indexes - not sure what yet\n",
    "            count = 0\n",
    "            for index, row in df_train.iterrows():\n",
    "                if count % 500 == 0:\n",
    "                    print(count)\n",
    "                    print(time.time())\n",
    "                count += 1\n",
    "                \n",
    "                # base arr is same for all treatments\n",
    "                triangle_list = fitting.generate_triangles(G_train, row['defense'], row['player'], stat)\n",
    "                \n",
    "                # if <10 (because of diffs between G_full and G_train) -> leave out, test data will still be consistent\n",
    "                if len(triangle_list) < 10:\n",
    "                    continue\n",
    "                \n",
    "                triangle_arr = fitting.sort_triangles(triangle_list)\n",
    "                \n",
    "                for treatment in fitting.treatments:\n",
    "                    x = fitting.route_treatment(triangle_arr, treatment)\n",
    "                    \n",
    "                    #if x == 'NAN':\n",
    "                    #    print(row['defense'])\n",
    "                    #    print(row['player'])\n",
    "                    #    print('tlist with G_train: {}'.format(triangle_list))\n",
    "                    #    withfull = fitting.generate_triangles(G_full, row['defense'], row['player'], stat)\n",
    "                    #    print('tlist with G_full: {}'.format(withfull))\n",
    "                \n",
    "                    # only add x,y to list if x actually returned value\n",
    "                    if type(x) == np.ndarray:\n",
    "                        train_x_lists[treatment].append(x)\n",
    "                        \n",
    "                        y = np.array([row[stat]])\n",
    "                        train_y_lists[treatment].append(y)\n",
    "             \n",
    "            for treatment in fitting.treatments:\n",
    "                train_x_actual[treatment] = np.vstack(train_x_lists[treatment])\n",
    "                train_y_actual[treatment] = np.vstack([arr.reshape((1, 1)) for arr in train_y_lists[treatment]])\n",
    "            \n",
    "            # TEST\n",
    "            \n",
    "            test_x_lists = {}\n",
    "            test_y_lists = {}\n",
    "            \n",
    "            test_x_actual = {}\n",
    "            test_y_actual = {}\n",
    "            \n",
    "            for treatment in fitting.treatments:\n",
    "                test_x_lists[treatment] = []\n",
    "                test_y_lists[treatment] = []\n",
    "                  \n",
    "            print('TEST')\n",
    "            print('num of rows: {}'.format(len(df_test)))\n",
    "            \n",
    "            # build labels (for error checking later)\n",
    "            test_y_labels = []\n",
    "            \n",
    "            # some problem with indexes - not sure what yet\n",
    "            count = 0\n",
    "            for index, row in df_test.iterrows():\n",
    "                if count % 500 == 0:\n",
    "                    print(count)\n",
    "                    print(time.time())\n",
    "                count += 1\n",
    "                \n",
    "                test_y_labels.append('{}_{}'.format(row['defense'], row['player']))\n",
    "                \n",
    "                # base arr is same for all treatments\n",
    "                triangle_list = fitting.generate_triangles(G_full, row['defense'], row['player'], stat)\n",
    "                triangle_arr = fitting.sort_triangles(triangle_list)\n",
    "                \n",
    "                for treatment in fitting.treatments:\n",
    "                    x = fitting.route_treatment(triangle_arr, treatment)\n",
    "                \n",
    "                    # only add x,y to list if x actually returned value\n",
    "                    if type(x) == np.ndarray:\n",
    "                        test_x_lists[treatment].append(x)\n",
    "                        \n",
    "                        y = np.array([row[stat]])\n",
    "                        test_y_lists[treatment].append(y)\n",
    "             \n",
    "            for treatment in fitting.treatments:\n",
    "                test_x_actual[treatment] = np.vstack(test_x_lists[treatment])\n",
    "                test_y_actual[treatment] = np.vstack([arr.reshape((1, 1)) for arr in test_y_lists[treatment]])\n",
    "              \n",
    "            \n",
    "            # pred dict to store\n",
    "            lin_reg_y_pred = {}\n",
    "            random_forest_y_pred = {}\n",
    "            \n",
    "                    \n",
    "            # train models and use to predict test_y\n",
    "            for treatment in fitting.treatments:\n",
    "                print('fitting linreg {}'.format(treatment))\n",
    "                print(time.time())\n",
    "            \n",
    "                lin_reg.fit(train_x_actual[treatment], train_y_actual[treatment])\n",
    "            \n",
    "                print(time.time())\n",
    "            \n",
    "                lin_reg_y_pred[treatment] = lin_reg.predict(test_x_actual[treatment])\n",
    "                \n",
    "                print('fitting rf')\n",
    "                print(time.time())\n",
    "            \n",
    "                random_forest.fit(train_x_actual[treatment], train_y_actual[treatment].ravel())\n",
    "            \n",
    "                print(time.time())\n",
    "            \n",
    "                random_forest_y_pred[treatment] = random_forest.predict(test_x_actual[treatment])\n",
    "                \n",
    "            \n",
    "            # SAVE RESULTS\n",
    "            # build dict to populate df\n",
    "            data_dict = {}\n",
    "            data_dict['label'] = test_y_labels\n",
    "            \n",
    "            for treatment in fitting.treatments:\n",
    "                data_dict['linreg_{}'.format(treatment)] = lin_reg_y_pred[treatment].ravel()\n",
    "                data_dict['rf_{}'.format(treatment)] = random_forest_y_pred[treatment]\n",
    "                data_dict['actual_{}'.format(treatment)] = test_y_actual[treatment].ravel()\n",
    "\n",
    "            \n",
    "            # build df\n",
    "            results_df = pd.DataFrame(data=data_dict)\n",
    "            \n",
    "            # save df\n",
    "            file_path = 'results/{}{}_{}.csv'.format(stat, year, i)\n",
    "            \n",
    "            results_df.to_csv(file_path, index=False)\n",
    "            \n",
    "            print('results saved to {}'.format(file_path))\n"
   ]
  },
  {
   "cell_type": "code",
   "execution_count": 3,
   "metadata": {},
   "outputs": [
    {
     "name": "stdout",
     "output_type": "stream",
     "text": [
      "label\n",
      "not arr\n",
      "linreg_null\n",
      "(669,)\n",
      "rf_null\n",
      "(669,)\n",
      "actual_null\n",
      "(669,)\n",
      "linreg_median_5\n",
      "(669,)\n",
      "rf_median_5\n",
      "(669,)\n",
      "actual_median_5\n",
      "(669,)\n",
      "linreg_median_10\n",
      "(669,)\n",
      "rf_median_10\n",
      "(669,)\n",
      "actual_median_10\n",
      "(669,)\n",
      "linreg_mean_5\n",
      "(669,)\n",
      "rf_mean_5\n",
      "(669,)\n",
      "actual_mean_5\n",
      "(669,)\n",
      "linreg_mean_10\n",
      "(669,)\n",
      "rf_mean_10\n",
      "(669,)\n",
      "actual_mean_10\n",
      "(669,)\n"
     ]
    }
   ],
   "source": [
    "for d in data_dict:\n",
    "    print(d)\n",
    "    try:\n",
    "        print(data_dict[d].shape)\n",
    "    except:\n",
    "        print('not arr')"
   ]
  },
  {
   "cell_type": "code",
   "execution_count": null,
   "metadata": {
    "collapsed": true
   },
   "outputs": [],
   "source": []
  },
  {
   "cell_type": "code",
   "execution_count": 4,
   "metadata": {},
   "outputs": [
    {
     "data": {
      "text/plain": [
       "['null', 'median_5', 'median_10', 'mean_5', 'mean_10']"
      ]
     },
     "execution_count": 4,
     "metadata": {},
     "output_type": "execute_result"
    }
   ],
   "source": [
    "fitting.treatments"
   ]
  },
  {
   "cell_type": "code",
   "execution_count": 5,
   "metadata": {},
   "outputs": [
    {
     "data": {
      "text/plain": [
       "array([[ 0.32313947,  0.2127445 ],\n",
       "       [ 0.21408559,  0.14037801],\n",
       "       [ 0.41839237,  0.3066049 ],\n",
       "       ..., \n",
       "       [ 0.78472379,  0.51642457],\n",
       "       [ 0.69758628,  0.40740741],\n",
       "       [ 0.        ,  0.        ]])"
      ]
     },
     "execution_count": 5,
     "metadata": {},
     "output_type": "execute_result"
    }
   ],
   "source": [
    "train_x_actual['null']"
   ]
  },
  {
   "cell_type": "code",
   "execution_count": 6,
   "metadata": {},
   "outputs": [
    {
     "data": {
      "text/plain": [
       "False"
      ]
     },
     "execution_count": 6,
     "metadata": {},
     "output_type": "execute_result"
    }
   ],
   "source": [
    "np.isnan(np.min(train_x_actual['null']))"
   ]
  },
  {
   "cell_type": "code",
   "execution_count": 7,
   "metadata": {},
   "outputs": [
    {
     "data": {
      "text/plain": [
       "array([[ 0.30555556],\n",
       "       [ 0.46153846],\n",
       "       [ 0.44230769],\n",
       "       ..., \n",
       "       [ 0.5       ],\n",
       "       [ 0.13333333],\n",
       "       [ 0.2       ]])"
      ]
     },
     "execution_count": 7,
     "metadata": {},
     "output_type": "execute_result"
    }
   ],
   "source": [
    "train_y_actual['null']"
   ]
  },
  {
   "cell_type": "code",
   "execution_count": 8,
   "metadata": {},
   "outputs": [
    {
     "data": {
      "text/plain": [
       "False"
      ]
     },
     "execution_count": 8,
     "metadata": {},
     "output_type": "execute_result"
    }
   ],
   "source": [
    "np.isnan(np.min(train_y_actual['null']))"
   ]
  },
  {
   "cell_type": "code",
   "execution_count": 9,
   "metadata": {},
   "outputs": [
    {
     "data": {
      "text/html": [
       "<div>\n",
       "<style>\n",
       "    .dataframe thead tr:only-child th {\n",
       "        text-align: right;\n",
       "    }\n",
       "\n",
       "    .dataframe thead th {\n",
       "        text-align: left;\n",
       "    }\n",
       "\n",
       "    .dataframe tbody tr th {\n",
       "        vertical-align: top;\n",
       "    }\n",
       "</style>\n",
       "<table border=\"1\" class=\"dataframe\">\n",
       "  <thead>\n",
       "    <tr style=\"text-align: right;\">\n",
       "      <th></th>\n",
       "      <th>0</th>\n",
       "      <th>1</th>\n",
       "    </tr>\n",
       "  </thead>\n",
       "  <tbody>\n",
       "    <tr>\n",
       "      <th>0</th>\n",
       "      <td>0.323139</td>\n",
       "      <td>0.212744</td>\n",
       "    </tr>\n",
       "    <tr>\n",
       "      <th>1</th>\n",
       "      <td>0.214086</td>\n",
       "      <td>0.140378</td>\n",
       "    </tr>\n",
       "    <tr>\n",
       "      <th>2</th>\n",
       "      <td>0.418392</td>\n",
       "      <td>0.306605</td>\n",
       "    </tr>\n",
       "    <tr>\n",
       "      <th>3</th>\n",
       "      <td>0.303485</td>\n",
       "      <td>0.166234</td>\n",
       "    </tr>\n",
       "    <tr>\n",
       "      <th>4</th>\n",
       "      <td>0.606874</td>\n",
       "      <td>0.485374</td>\n",
       "    </tr>\n",
       "  </tbody>\n",
       "</table>\n",
       "</div>"
      ],
      "text/plain": [
       "          0         1\n",
       "0  0.323139  0.212744\n",
       "1  0.214086  0.140378\n",
       "2  0.418392  0.306605\n",
       "3  0.303485  0.166234\n",
       "4  0.606874  0.485374"
      ]
     },
     "execution_count": 9,
     "metadata": {},
     "output_type": "execute_result"
    }
   ],
   "source": [
    "df = pd.DataFrame(data=train_x_actual['null'])\n",
    "\n",
    "df.head()"
   ]
  },
  {
   "cell_type": "code",
   "execution_count": 10,
   "metadata": {},
   "outputs": [
    {
     "data": {
      "text/html": [
       "<div>\n",
       "<style>\n",
       "    .dataframe thead tr:only-child th {\n",
       "        text-align: right;\n",
       "    }\n",
       "\n",
       "    .dataframe thead th {\n",
       "        text-align: left;\n",
       "    }\n",
       "\n",
       "    .dataframe tbody tr th {\n",
       "        vertical-align: top;\n",
       "    }\n",
       "</style>\n",
       "<table border=\"1\" class=\"dataframe\">\n",
       "  <thead>\n",
       "    <tr style=\"text-align: right;\">\n",
       "      <th></th>\n",
       "      <th>0</th>\n",
       "      <th>1</th>\n",
       "    </tr>\n",
       "  </thead>\n",
       "  <tbody>\n",
       "  </tbody>\n",
       "</table>\n",
       "</div>"
      ],
      "text/plain": [
       "Empty DataFrame\n",
       "Columns: [0, 1]\n",
       "Index: []"
      ]
     },
     "execution_count": 10,
     "metadata": {},
     "output_type": "execute_result"
    }
   ],
   "source": [
    "nans = lambda df: df[df.isnull().any(axis=1)]\n",
    "\n",
    "nans(df)"
   ]
  },
  {
   "cell_type": "code",
   "execution_count": 11,
   "metadata": {},
   "outputs": [
    {
     "ename": "NameError",
     "evalue": "name 'G' is not defined",
     "output_type": "error",
     "traceback": [
      "\u001b[0;31m---------------------------------------------------------------------------\u001b[0m",
      "\u001b[0;31mNameError\u001b[0m                                 Traceback (most recent call last)",
      "\u001b[0;32m<ipython-input-11-792347b5b4ec>\u001b[0m in \u001b[0;36m<module>\u001b[0;34m()\u001b[0m\n\u001b[1;32m      1\u001b[0m \u001b[0;34m\u001b[0m\u001b[0m\n\u001b[1;32m      2\u001b[0m \u001b[0;34m\u001b[0m\u001b[0m\n\u001b[0;32m----> 3\u001b[0;31m \u001b[0mfitting\u001b[0m\u001b[0;34m.\u001b[0m\u001b[0mgenerate_triangles\u001b[0m\u001b[0;34m(\u001b[0m\u001b[0mG\u001b[0m\u001b[0;34m,\u001b[0m \u001b[0;34m'Defense_paok'\u001b[0m\u001b[0;34m,\u001b[0m \u001b[0;34m'diogenis-gorgonis-1'\u001b[0m\u001b[0;34m,\u001b[0m \u001b[0;34m'pts_per_min'\u001b[0m\u001b[0;34m)\u001b[0m\u001b[0;34m\u001b[0m\u001b[0m\n\u001b[0m",
      "\u001b[0;31mNameError\u001b[0m: name 'G' is not defined"
     ]
    }
   ],
   "source": [
    "\n",
    "\n",
    "fitting.generate_triangles(G, 'Defense_paok', 'diogenis-gorgonis-1', 'pts_per_min')"
   ]
  }
 ],
 "metadata": {
  "kernelspec": {
   "display_name": "Python 3",
   "language": "python",
   "name": "python3"
  },
  "language_info": {
   "codemirror_mode": {
    "name": "ipython",
    "version": 3
   },
   "file_extension": ".py",
   "mimetype": "text/x-python",
   "name": "python",
   "nbconvert_exporter": "python",
   "pygments_lexer": "ipython3",
   "version": "3.6.3"
  }
 },
 "nbformat": 4,
 "nbformat_minor": 2
}
